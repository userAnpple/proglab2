{
 "cells": [
  {
   "cell_type": "markdown",
   "id": "0709b3c8",
   "metadata": {},
   "source": [
    "Read csv files to pandas dataframe(implement as a separate function that accepts path to the csv files as an argument) "
   ]
  },
  {
   "cell_type": "code",
   "execution_count": 1,
   "id": "458fdcb2",
   "metadata": {},
   "outputs": [],
   "source": [
    "import pandas as pd\n",
    "\n",
    "import glob"
   ]
  },
  {
   "cell_type": "code",
   "execution_count": 2,
   "id": "a99dd301",
   "metadata": {},
   "outputs": [],
   "source": [
    "def csv_files_to_df(path_prefix = \"./\", file_name_prefix = \"dataVH\"):\n",
    "\n",
    "    path = glob.glob(\"{}{}_{}_*.csv\".format(path_prefix,file_name_prefix,1)) # get all csv files for particular province\n",
    "    path.sort() # sort all pathes to get the latest downloaded csv file for particualr province\n",
    "    # print(path)\n",
    "    \n",
    "    df = pd.read_csv(path[-1], index_col = False) # read designated csv to resulting dataframe\n",
    "    \n",
    "    df[\"province\"] = 1 # add column province to dataframe and fill it with corresponding value\n",
    "    \n",
    "    # df.head(5)\n",
    "    \n",
    "    for provinceID in range(2, 28): # loop through provinces for which csv file will be read \n",
    "        \n",
    "        path = glob.glob(\"{}{}_{}_*.csv\".format(path_prefix,file_name_prefix,provinceID)) # get all csv files for particular province \n",
    "        path.sort() # sort all pathes to get the latest downloaded csv file for particualr province\n",
    "        # print(path)\n",
    "        \n",
    "        df_temp = pd.read_csv(path[-1], index_col = False) # read designated csv to temporary dataframe  \n",
    "        \n",
    "        df_temp[\"province\"] = provinceID # add column province to dataframe and fill it with corresponding value\n",
    "        \n",
    "        # df_temp.head(5)\n",
    "        \n",
    "        df = pd.concat([df,df_temp]) # concatenate temporary dataframe and resulting dataframe\n",
    "    \n",
    "    return df "
   ]
  },
  {
   "cell_type": "code",
   "execution_count": 16,
   "id": "87abdc31",
   "metadata": {},
   "outputs": [],
   "source": [
    "df = csv_files_to_df() # read all csv files to dataframe\n",
    "# df.tail(5)\n",
    "# print(df.columns.tolist())\n",
    "# type(df)"
   ]
  },
  {
   "cell_type": "code",
   "execution_count": 17,
   "id": "a3205de8",
   "metadata": {},
   "outputs": [],
   "source": [
    "df = df.drop(df.loc[df[\"VHI\"] == -1].index) # drop all rows with nan VHI\n",
    "# df.tail(5)"
   ]
  },
  {
   "cell_type": "code",
   "execution_count": 18,
   "id": "d9848f9c",
   "metadata": {},
   "outputs": [],
   "source": [
    "def replace_province_ID_name(df):\n",
    "    # create dictionary for column province that contatits for each provinceID its corresponding name\n",
    "    province_ID_name = {\"province\": {1: \"Cherkasy\", 2: \"Chernihiv\", 3: \"Chernivtsi\", 4: \"Crimea\", 5: \"Dnipropetrovs`k\",\n",
    "                                     6: \"Donets`k\", 7: \"Ivano-Frankivs`k\", 8: \"Kharkiv\", 9: \"Kherson\", 10: \"Khmel`nyts`kyy\",\n",
    "                                     11: \"Kiev\", 12: \"Kiev City\", 13: \"Kirovohrad\", 14: \"Luhans`k\", 15: \"L`viv\", 16: \"Mykolaiv\",\n",
    "                                     17: \"Odessa\", 18: \"Poltava\", 19: \"Rivne\", 20: \"Sevastopol`\", 21: \"Sumy\", 22: \"Ternopil`\",\n",
    "                                     23: \"Transcarpatl\", 24: \"Vinnytsa\", 25: \"Volyn\", 26: \"Zaporizhzhya\", 27: \"Zhytomyr\"}}\n",
    "    return df.replace(province_ID_name) # replace all provinceID with corresponding name using replace method from pandas"
   ]
  },
  {
   "cell_type": "code",
   "execution_count": 19,
   "id": "9fb8d4f3",
   "metadata": {},
   "outputs": [],
   "source": [
    "df = replace_province_ID_name(df) # replace in column province provinceID with provinceName\n",
    "# df.tail(5)"
   ]
  },
  {
   "cell_type": "markdown",
   "id": "770b468e",
   "metadata": {},
   "source": [
    "Find min and max value of VHI for given province and over the given year"
   ]
  },
  {
   "cell_type": "code",
   "execution_count": 27,
   "id": "6ddb1e37",
   "metadata": {},
   "outputs": [],
   "source": [
    "def VHI_province_year_extr(provinceName, year, df):\n",
    "    province_year_VHI_max = df[(df[\"province\"] == provinceName) & (df[\"year\"] == year)][\"VHI\"].max() # get max value of VHI for given province and over given year\n",
    "    province_year_VHI_min = df[(df[\"province\"] == provinceName) & (df[\"year\"] == year)][\"VHI\"].min() # get min value of VHI for given province and over given year\n",
    "    return (province_year_VHI_min, province_year_VHI_max)"
   ]
  },
  {
   "cell_type": "code",
   "execution_count": 28,
   "id": "4e7e6983",
   "metadata": {},
   "outputs": [
    {
     "name": "stdout",
     "output_type": "stream",
     "text": [
      "max value of VHI for province Cherkasy over year 1982 is 64.58\n",
      "min value of VHI for province Cherkasy over year 1982 is 23.83\n"
     ]
    }
   ],
   "source": [
    "provinceName = \"Cherkasy\" # set province\n",
    "year = 1982 # set year\n",
    "\n",
    "extr = VHI_province_year_extr(provinceName, year, df)\n",
    "\n",
    "print(\"max value of VHI for province {} over year {} is {}\".format(provinceName, year, extr[1]))\n",
    "print(\"min value of VHI for province {} over year {} is {}\".format(provinceName, year, extr[0]))"
   ]
  },
  {
   "cell_type": "markdown",
   "id": "b2e7cb7a",
   "metadata": {},
   "source": []
  }
 ],
 "metadata": {
  "kernelspec": {
   "display_name": "Python 3 (ipykernel)",
   "language": "python",
   "name": "python3"
  },
  "language_info": {
   "codemirror_mode": {
    "name": "ipython",
    "version": 3
   },
   "file_extension": ".py",
   "mimetype": "text/x-python",
   "name": "python",
   "nbconvert_exporter": "python",
   "pygments_lexer": "ipython3",
   "version": "3.9.13"
  }
 },
 "nbformat": 4,
 "nbformat_minor": 5
}
